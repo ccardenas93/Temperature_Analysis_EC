{
 "cells": [
  {
   "cell_type": "markdown",
   "metadata": {},
   "source": [
    "### Temperature plot"
   ]
  },
  {
   "cell_type": "code",
   "execution_count": 5,
   "metadata": {},
   "outputs": [
    {
     "name": "stderr",
     "output_type": "stream",
     "text": [
      "C:\\Users\\carsk\\AppData\\Local\\Temp\\ipykernel_36100\\580658330.py:69: DeprecationWarning: Starting with ImageIO v3 the behavior of this function will switch to that of iio.v3.imread. To keep the current behavior (and make this warning dissapear) use `import imageio.v2 as imageio` or call `imageio.v2.imread` directly.\n",
      "  image = imageio.imread(temp_image)\n"
     ]
    },
    {
     "name": "stdout",
     "output_type": "stream",
     "text": [
      "GIF created at C:/Users/carsk/OneDrive - KU Leuven/Personal_projects/Temperature_map_EC/Amazonia\\annual_temperature.gif\n"
     ]
    }
   ],
   "source": [
    "import os\n",
    "import glob\n",
    "import rasterio\n",
    "import numpy as np\n",
    "import imageio\n",
    "import matplotlib.pyplot as plt\n",
    "import cartopy.crs as ccrs\n",
    "import cartopy.feature as cfeature\n",
    "\n",
    "def kelvin_to_celsius(kelvin_array):\n",
    "    \"\"\"Convert temperature from Kelvin to Celsius, ignoring values < 250 K.\"\"\"\n",
    "    celsius_array = np.where(kelvin_array < 250, np.nan, kelvin_array - 273.15)\n",
    "    return celsius_array\n",
    "\n",
    "def extract_year(file_name):\n",
    "    \"\"\"Extract year from the file name.\"\"\"\n",
    "    return file_name.split('_')[-1].split('.')[0]\n",
    "\n",
    "# Folder paths\n",
    "folder_path = \"C:/Users/carsk/OneDrive - KU Leuven/Personal_projects/Temperature_map_EC/Amazonia\"\n",
    "output_folder = os.path.join(folder_path, \"temp_images\")\n",
    "os.makedirs(output_folder, exist_ok=True)\n",
    "\n",
    "# File patterns\n",
    "pattern = os.path.join(folder_path, '*.tif')\n",
    "file_paths = sorted(glob.glob(pattern))\n",
    "\n",
    "temp_images = []\n",
    "\n",
    "for file_path in file_paths:\n",
    "    year = extract_year(os.path.basename(file_path))\n",
    "    with rasterio.open(file_path) as src:\n",
    "        # Convert raster to numpy array and apply temperature conversion\n",
    "        array = src.read(1)\n",
    "        array_celsius = kelvin_to_celsius(array)\n",
    "        array_celsius[array_celsius < -273.15] = np.nan  # Filter out no data values\n",
    "        \n",
    "        # Plotting with Cartopy\n",
    "        fig, ax = plt.subplots(figsize=(13.03, 8), subplot_kw={'projection': ccrs.PlateCarree()})\n",
    "        # Main title and subtitle with a newline character\n",
    "        title_with_subtitle = f\"Temperatura Anual Promedio - {year}\\nREGIÓN AMAZÓNICA\"\n",
    "\n",
    "        ax.set_title(title_with_subtitle, fontsize=14, pad=20, loc='center')\n",
    "\n",
    "        \n",
    "        # Add global political borders and coastlines for context\n",
    "        ax.add_feature(cfeature.BORDERS, linestyle=':')\n",
    "        ax.add_feature(cfeature.COASTLINE)\n",
    "\n",
    "        # Adding the grid\n",
    "        ax.gridlines(draw_labels=True, dms=True, x_inline=False, y_inline=False)\n",
    "        \n",
    "        # Plotting the temperature data\n",
    "        mappable = ax.imshow(array_celsius, cmap='coolwarm', vmin=0, vmax=30, transform=ccrs.PlateCarree(), extent=[src.bounds.left, src.bounds.right, src.bounds.bottom, src.bounds.top])\n",
    "        plt.colorbar(mappable, ax=ax, shrink=0.5, aspect=5, label='Temperatura (°C)')\n",
    "        \n",
    "        plt.axis('off')\n",
    "        \n",
    "        temp_image_path = os.path.join(output_folder, f\"{year}.png\")\n",
    "        plt.savefig(temp_image_path, bbox_inches='tight', pad_inches=0)\n",
    "        plt.close()\n",
    "        \n",
    "        temp_images.append(temp_image_path)\n",
    "\n",
    "# Create a GIF\n",
    "gif_path = os.path.join(folder_path, \"annual_temperature.gif\")\n",
    "with imageio.get_writer(gif_path, mode='I', duration=0.5) as writer:\n",
    "    for temp_image in temp_images:\n",
    "        image = imageio.imread(temp_image)\n",
    "        writer.append_data(image)\n",
    "\n",
    "# Optionally, remove the temporary images\n",
    "\"\"\"for temp_image in temp_images:\n",
    "    os.remove(temp_image)\n",
    "\"\"\"\n",
    "print(f\"GIF created at {gif_path}\")\n"
   ]
  },
  {
   "cell_type": "markdown",
   "metadata": {},
   "source": [
    "### Time series"
   ]
  },
  {
   "cell_type": "code",
   "execution_count": 17,
   "metadata": {},
   "outputs": [
    {
     "name": "stderr",
     "output_type": "stream",
     "text": [
      "C:\\Users\\carsk\\AppData\\Local\\Temp\\ipykernel_36100\\2453135208.py:78: DeprecationWarning: Starting with ImageIO v3 the behavior of this function will switch to that of iio.v3.imread. To keep the current behavior (and make this warning dissapear) use `import imageio.v2 as imageio` or call `imageio.v2.imread` directly.\n",
      "  frames.append(imageio.imread(frame_path))\n"
     ]
    },
    {
     "name": "stdout",
     "output_type": "stream",
     "text": [
      "GIF created at C:\\Users\\carsk\\OneDrive - KU Leuven\\Personal_projects\\Temperature_map_EC\\costa\\temperature_timeseries_labels.gif\n"
     ]
    }
   ],
   "source": [
    "import os\n",
    "import glob\n",
    "import matplotlib.pyplot as plt\n",
    "import seaborn as sns\n",
    "from osgeo import gdal\n",
    "import numpy as np\n",
    "import imageio\n",
    "\n",
    "# Setup seaborn for aesthetics\n",
    "sns.set_theme(style=\"whitegrid\")\n",
    "sns.set_context(\"notebook\", font_scale=0.8)\n",
    "\n",
    "def kelvin_to_celsius(kelvin_array):\n",
    "    \"\"\"Convert temperature from Kelvin to Celsius, ignoring values < 250 K.\"\"\"\n",
    "    celsius_array = np.where(kelvin_array < 250, np.nan, kelvin_array - 273.15)\n",
    "    return celsius_array\n",
    "\n",
    "# Extract year from the file name\n",
    "def extract_year(file_name):\n",
    "    return int(file_name.split('_')[-1].split('.')[0])\n",
    "\n",
    "# Specify your folder path containing TIFF files\n",
    "folder_path = \"C:\\\\Users\\\\carsk\\\\OneDrive - KU Leuven\\\\Personal_projects\\\\Temperature_map_EC\\\\costa\"\n",
    "# Pattern to match TIFF files\n",
    "pattern = os.path.join(folder_path, '*.tif')\n",
    "file_paths = sorted(glob.glob(pattern), key=lambda x: extract_year(x))\n",
    "\n",
    "# Initialize lists to hold years and their mean temperatures\n",
    "years = []\n",
    "mean_temperatures = []\n",
    "\n",
    "for file_path in file_paths:\n",
    "    year = extract_year(os.path.basename(file_path))\n",
    "    dataset = gdal.Open(file_path)\n",
    "    array = dataset.GetRasterBand(1).ReadAsArray()\n",
    "    array_celsius = kelvin_to_celsius(array)\n",
    "    mean_temp = np.nanmean(array_celsius)\n",
    "    years.append(year)\n",
    "    mean_temperatures.append(mean_temp)\n",
    "\n",
    "# Calculate the overall mean temperature\n",
    "overall_mean = np.mean([temp for temp in mean_temperatures if temp is not None])\n",
    "\n",
    "# Output folder for temporary images\n",
    "output_folder = os.path.join(folder_path, \"timeseries_images_labels\")\n",
    "os.makedirs(output_folder, exist_ok=True)\n",
    "\n",
    "# Create each frame for the GIF\n",
    "frames = []\n",
    "durations = []\n",
    "for i in range(1, len(years) + 1):\n",
    "    fig, ax = plt.subplots(figsize=(10, 6))\n",
    "    for j in range(i):\n",
    "        color = 'red' if mean_temperatures[j] > overall_mean else 'blue'\n",
    "        ax.plot(years[j], mean_temperatures[j], 'o', color=color)\n",
    "        ax.annotate(f'{mean_temperatures[j]:.2f}', (years[j], mean_temperatures[j]), \n",
    "                    textcoords=\"offset points\", xytext=(0,10), ha='center', \n",
    "                    bbox=dict(boxstyle=\"round,pad=0.3\", fc=color, alpha=0.5))\n",
    "    \n",
    "    # Connect all points up to the current year with a line\n",
    "    ax.plot(years[:i], mean_temperatures[:i], '-k', alpha=0.5)\n",
    "    # Include label for the mean temperature line\n",
    "    ax.axhline(y=overall_mean, color='gray', linestyle='--', label='Temperatura Promedio')\n",
    "    \n",
    "    ax.set_title(\"Temperatura Anual Promedio 1981-2023\\nREGIÓN COSTA\")\n",
    "    ax.set_xlabel(\"Año\")\n",
    "    ax.set_ylabel(\"Temperatura Promedio (°C)\")\n",
    "    ax.set_xlim(1981, 2023)\n",
    "    plt.tight_layout()\n",
    "    \n",
    "    # Display the legend in the lower right corner\n",
    "    ax.legend(loc='lower right')\n",
    "    \n",
    "    frame_path = os.path.join(output_folder, f\"frame_{i}.png\")\n",
    "    plt.savefig(frame_path)\n",
    "    plt.close(fig)\n",
    "    \n",
    "    frames.append(imageio.imread(frame_path))\n",
    "    durations.append(0.5)\n",
    "\n",
    "# Adjust the duration of the last frame to 5 seconds\n",
    "durations[-1] = 5\n",
    "\n",
    "# Generate GIF with specified durations for each frame\n",
    "gif_path = os.path.join(folder_path, \"temperature_timeseries_labels.gif\")\n",
    "imageio.mimsave(gif_path, frames, duration=durations)\n",
    "\n",
    "print(f\"GIF created at {gif_path}\")"
   ]
  },
  {
   "cell_type": "code",
   "execution_count": 23,
   "metadata": {},
   "outputs": [
    {
     "name": "stdout",
     "output_type": "stream",
     "text": [
      "DataFrame of temperatures saved to C:\\Users\\carsk\\OneDrive - KU Leuven\\Personal_projects\\Temperature_map_EC\\era_YEARLY_Average\\Nacional_temperatures.csv\n"
     ]
    }
   ],
   "source": [
    "import os\n",
    "import glob\n",
    "import numpy as np\n",
    "import pandas as pd\n",
    "from osgeo import gdal\n",
    "\n",
    "def kelvin_to_celsius(kelvin_array):\n",
    "    \"\"\"Convert temperature from Kelvin to Celsius, ignoring values < 250 K.\"\"\"\n",
    "    celsius_array = np.where(kelvin_array < 250, np.nan, kelvin_array - 273.15)\n",
    "    return celsius_array\n",
    "\n",
    "def extract_year(file_name):\n",
    "    \"\"\"Extract year from the file name.\"\"\"\n",
    "    return int(file_name.split('_')[-1].split('.')[0])\n",
    "\n",
    "# Update this to the path where your TIFF files are located\n",
    "folder_path = \"C:\\\\Users\\\\carsk\\\\OneDrive - KU Leuven\\\\Personal_projects\\\\Temperature_map_EC\\\\era_YEARLY_Average\"\n",
    "\n",
    "# Pattern to match TIFF files\n",
    "pattern = os.path.join(folder_path, '*.tif')\n",
    "file_paths = sorted(glob.glob(pattern), key=lambda x: extract_year(x))\n",
    "\n",
    "# Initialize lists to hold years and their mean temperatures\n",
    "years = []\n",
    "mean_temperatures = []\n",
    "\n",
    "for file_path in file_paths:\n",
    "    year = extract_year(os.path.basename(file_path))\n",
    "    dataset = gdal.Open(file_path)\n",
    "    array = dataset.GetRasterBand(1).ReadAsArray()\n",
    "    array_celsius = kelvin_to_celsius(array)\n",
    "    mean_temp = np.nanmean(array_celsius[array_celsius >= -273.15])  # Ignore invalid data\n",
    "    years.append(year)\n",
    "    mean_temperatures.append(mean_temp)\n",
    "\n",
    "# Create a DataFrame from the lists\n",
    "df_amazonia = pd.DataFrame({\n",
    "    'date': years,\n",
    "    'Amazonia': mean_temperatures\n",
    "})\n",
    "\n",
    "# Assuming you want to save this DataFrame as a CSV file:\n",
    "output_csv_path = os.path.join(folder_path, \"Nacional_temperatures.csv\")\n",
    "df_amazonia.to_csv(output_csv_path, index=False)\n",
    "\n",
    "print(f\"DataFrame of temperatures saved to {output_csv_path}\")"
   ]
  },
  {
   "cell_type": "code",
   "execution_count": 7,
   "metadata": {},
   "outputs": [
    {
     "name": "stdout",
     "output_type": "stream",
     "text": [
      "All images have been merged successfully.\n"
     ]
    }
   ],
   "source": [
    "from PIL import Image\n",
    "import glob\n",
    "import os\n",
    "\n",
    "def merge_images(map_image_path, time_series_image_path, output_path):\n",
    "    # Load the map and time series images\n",
    "    map_img = Image.open(map_image_path)\n",
    "    time_series_img = Image.open(time_series_image_path)\n",
    "    \n",
    "    # Calculate dimensions for the merged image\n",
    "    total_width = max(map_img.width, time_series_img.width)\n",
    "    total_height = map_img.height + time_series_img.height\n",
    "    \n",
    "    # Create a new image with the combined dimensions\n",
    "    merged_img = Image.new('RGB', (total_width, total_height), \"white\")  # Background color\n",
    "    \n",
    "    # Calculate offsets for centering\n",
    "    map_offset = (total_width - map_img.width) // 2\n",
    "    time_series_offset = (total_width - time_series_img.width) // 2\n",
    "    \n",
    "    # Paste the map and time series images into the merged image using the offsets\n",
    "    merged_img.paste(map_img, (map_offset, 0))\n",
    "    merged_img.paste(time_series_img, (time_series_offset, map_img.height))\n",
    "    \n",
    "    # Save the merged image\n",
    "    merged_img.save(output_path)\n",
    "\n",
    "maps_folder = \"C:/Users/carsk/OneDrive - KU Leuven/Personal_projects/Temperature_map_EC/Amazonia/temp_images\"\n",
    "timeseries_folder = \"C:/Users/carsk/OneDrive - KU Leuven/Personal_projects/Temperature_map_EC/Amazonia/timeseries_images_labels\"\n",
    "merged_folder = \"C:/Users/carsk/OneDrive - KU Leuven/Personal_projects/Temperature_map_EC/Amazonia/merged_images\"\n",
    "os.makedirs(merged_folder, exist_ok=True)\n",
    "\n",
    "# Assuming the map images are named like 'YYYY.png'\n",
    "map_images = sorted(glob.glob(os.path.join(maps_folder, '*.png')))\n",
    "map_years = [os.path.basename(img_path).split('.')[0] for img_path in map_images]\n",
    "\n",
    "# For each map image, find the corresponding time series image by index and merge\n",
    "for index, year in enumerate(map_years):\n",
    "    map_image_path = os.path.join(maps_folder, f\"{year}.png\")\n",
    "    time_series_image_path = os.path.join(timeseries_folder, f\"frame_{index + 1}.png\")\n",
    "    output_path = os.path.join(merged_folder, f\"merged_{year}.png\")\n",
    "    merge_images(map_image_path, time_series_image_path, output_path)\n",
    "\n",
    "print(\"All images have been merged successfully.\")"
   ]
  },
  {
   "cell_type": "code",
   "execution_count": 8,
   "metadata": {},
   "outputs": [
    {
     "name": "stderr",
     "output_type": "stream",
     "text": [
      "C:\\Users\\carsk\\AppData\\Local\\Temp\\ipykernel_36100\\2293174356.py:6: DeprecationWarning: Starting with ImageIO v3 the behavior of this function will switch to that of iio.v3.imread. To keep the current behavior (and make this warning dissapear) use `import imageio.v2 as imageio` or call `imageio.v2.imread` directly.\n",
      "  image = imageio.imread(img_path)\n"
     ]
    },
    {
     "name": "stdout",
     "output_type": "stream",
     "text": [
      "Final merged GIF created at C:\\Users\\carsk\\OneDrive - KU Leuven\\Personal_projects\\Temperature_map_EC\\Amazonia\\final_merged_animation.gif\n"
     ]
    }
   ],
   "source": [
    "merged_image_paths = sorted(glob.glob(os.path.join(merged_folder, '*.png')), key=lambda x: int(os.path.basename(x).split('_')[1].split('.')[0]))\n",
    "\n",
    "final_gif_path = os.path.join(folder_path, \"final_merged_animation.gif\")\n",
    "with imageio.get_writer(final_gif_path, mode='I', duration=0.5) as writer:\n",
    "    for img_path in merged_image_paths:\n",
    "        image = imageio.imread(img_path)\n",
    "        writer.append_data(image)\n",
    "\n",
    "print(f\"Final merged GIF created at {final_gif_path}\")"
   ]
  }
 ],
 "metadata": {
  "kernelspec": {
   "display_name": "base",
   "language": "python",
   "name": "python3"
  },
  "language_info": {
   "codemirror_mode": {
    "name": "ipython",
    "version": 3
   },
   "file_extension": ".py",
   "mimetype": "text/x-python",
   "name": "python",
   "nbconvert_exporter": "python",
   "pygments_lexer": "ipython3",
   "version": "3.9.13"
  }
 },
 "nbformat": 4,
 "nbformat_minor": 2
}
