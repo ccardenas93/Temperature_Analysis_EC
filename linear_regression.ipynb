{
 "cells": [
  {
   "cell_type": "code",
   "execution_count": null,
   "metadata": {},
   "outputs": [],
   "source": [
    "import pandas as pd\n",
    "import numpy as np\n",
    "from scipy import stats\n",
    "import matplotlib.pyplot as plt\n",
    "\n",
    "\n",
    "costa_temperatures_df = pd.read_csv('costa_temperatures.csv')\n",
    "insular_temperatures_df = pd.read_csv('Insular_temperatures.csv')\n",
    "sierra_temperatures_df = pd.read_csv('Sierra_temperatures.csv')\n",
    "amazonia_temperatures_df = pd.read_csv('amazonia_temperatures.csv')\n",
    "nacional_temperatures_df = pd.read_csv('Nacional_temperatures.csv')\n",
    "\n",
    "\n",
    "costa_temperatures_df.rename(columns={'Amazonia': 'Costa'}, inplace=True)\n",
    "insular_temperatures_df.rename(columns={'Amazonia': 'Insular'}, inplace=True)\n",
    "sierra_temperatures_df.rename(columns={'Amazonia': 'Sierra'}, inplace=True)\n",
    "amazonia_temperatures_df.rename(columns={'Amazonia': 'Amazonia'}, inplace=True)\n",
    "nacional_temperatures_df.rename(columns={'Amazonia': 'Nacional'}, inplace=True)\n",
    "\n",
    "# Fusionando los datos por fecha\n",
    "dfs = [costa_temperatures_df, insular_temperatures_df, sierra_temperatures_df, amazonia_temperatures_df, nacional_temperatures_df]\n",
    "merged_temperatures_df = pd.concat(dfs).groupby('date').mean().reset_index()\n",
    "\n",
    "# Regresión lineal para cada región\n",
    "regression_results = {}\n",
    "for column in merged_temperatures_df.columns[1:]:\n",
    "    slope, intercept, r_value, p_value, std_err = stats.linregress(merged_temperatures_df['date'], merged_temperatures_df[column])\n",
    "    regression_results[column] = {\n",
    "        'slope': slope,\n",
    "        'intercept': intercept,\n",
    "        'r_value': r_value,\n",
    "        'p_value': p_value,\n",
    "        'std_err': std_err\n",
    "    }\n",
    "\n",
    "# Visualización de resultados de regresión\n",
    "plt.style.use('seaborn-darkgrid')\n",
    "fig, ax = plt.subplots(figsize=(12, 8))\n",
    "colors = ['blue', 'green', 'red', 'purple', 'orange']\n",
    "for i, (region, stats) in enumerate(regression_results.items()):\n",
    "    ax.plot(merged_temperatures_df['date'], merged_temperatures_df[region], label=f'{region} (pendiente: {stats[\"slope\"]:.4f})', color=colors[i])\n",
    "    ax.plot(merged_temperatures_df['date'], stats['intercept'] + stats['slope'] * merged_temperatures_df['date'], color=colors[i], linestyle='--')\n",
    "ax.set_title('Tendencias de Temperatura por Región')\n",
    "ax.set_xlabel('Año')\n",
    "ax.set_ylabel('Temperatura Promedio (°C)')\n",
    "ax.legend()\n",
    "plt.show()"
   ]
  }
 ],
 "metadata": {
  "language_info": {
   "name": "python"
  }
 },
 "nbformat": 4,
 "nbformat_minor": 2
}
